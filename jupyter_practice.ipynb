{
 "cells": [
  {
   "cell_type": "markdown",
   "metadata": {},
   "source": [
    "# 파이썬을 이용한 mysql"
   ]
  },
  {
   "cell_type": "code",
   "execution_count": 4,
   "metadata": {},
   "outputs": [],
   "source": [
    "import pymysql"
   ]
  },
  {
   "cell_type": "markdown",
   "metadata": {},
   "source": [
    "### 데이터 베이스 연결"
   ]
  },
  {
   "cell_type": "code",
   "execution_count": 5,
   "metadata": {},
   "outputs": [
    {
     "name": "stdout",
     "output_type": "stream",
     "text": [
      "<pymysql.connections.Connection object at 0x00000279D395B3A0>\n",
      "<pymysql.cursors.Cursor object at 0x00000279D395B4F0>\n"
     ]
    }
   ],
   "source": [
    "database = pymysql.connect(host = 'localhost',port = 3306, user = 'root', passwd = '123456', db = 'ecommerce', charset = 'utf8')\n",
    "cursor = database.cursor()\n",
    "print(database)\n",
    "print(cursor)"
   ]
  },
  {
   "cell_type": "markdown",
   "metadata": {},
   "source": [
    "### 데이터 베이스에 테이블 형성"
   ]
  },
  {
   "cell_type": "code",
   "execution_count": 9,
   "metadata": {},
   "outputs": [],
   "source": [
    "table = '''\n",
    "    create table product(\n",
    "        product_code varchar(20) not null,\n",
    "        title varchar(200) not null,\n",
    "        ori_price int,\n",
    "        discount_price int,\n",
    "        discount_percent int,\n",
    "        delivery varchar(2),\n",
    "        primary key(product_code)\n",
    ");\n",
    "'''\n",
    "cursor.execute(table)\n",
    "database.commit()\n",
    "database.close()"
   ]
  },
  {
   "cell_type": "markdown",
   "metadata": {},
   "source": [
    "## 코드 작성 순서\n",
    "1. 라이브러리 import\n",
    "2. 데이터 베이스 접속\n",
    "3. 커서 가져오기\n",
    "4. sql 문장 작성하기\n",
    "5. 문장 실행\n",
    "6. 데이터베이스 커밋(매번할 필요는 없음)\n",
    "7. 데이터 베이스 연결 해제"
   ]
  },
  {
   "cell_type": "markdown",
   "metadata": {},
   "source": [
    "### 데이터 입력"
   ]
  },
  {
   "cell_type": "code",
   "execution_count": 10,
   "metadata": {},
   "outputs": [],
   "source": [
    "database = pymysql.connect(host = 'localhost',port = 3306, user = 'root', passwd = '123456', db = 'ecommerce', charset = 'utf8')\n",
    "cursor = database.cursor()\n",
    "sql = '''\n",
    "    insert into product values('00004568','아이폰 XS',1360000,1224000,10,'F');\n",
    "'''\n",
    "cursor.execute(sql)\n",
    "database.commit()\n",
    "database.close()"
   ]
  },
  {
   "cell_type": "code",
   "execution_count": 11,
   "metadata": {},
   "outputs": [],
   "source": [
    "database = pymysql.connect(host = 'localhost',port = 3306, user = 'root', passwd = '123456', db = 'ecommerce', charset = 'utf8')\n",
    "cursor = database.cursor()\n",
    "for i in range(10):\n",
    "    product_code = 4569 + i\n",
    "    sql = \"\"\"\n",
    "        insert into product values ('0000\"\"\"+str(product_code)+\"\"\"','아이폰 XS',1360000,1224000,10,'F')\n",
    "    \"\"\"\n",
    "    cursor.execute(sql)\n",
    "    \n",
    "database.commit()\n",
    "database.close()"
   ]
  },
  {
   "cell_type": "markdown",
   "metadata": {},
   "source": [
    "### 데이터 출력"
   ]
  },
  {
   "cell_type": "code",
   "execution_count": 20,
   "metadata": {},
   "outputs": [
    {
     "name": "stdout",
     "output_type": "stream",
     "text": [
      "('00004568', '아이폰 XS', 1360000, 1224000, 10, 'F')\n",
      "('00004569', '아이폰 XS', 1360000, 1224000, 10, 'F')\n",
      "('00004570', '아이폰 XS', 1360000, 1224000, 10, 'F')\n",
      "('00004571', '아이폰 XS', 1360000, 1224000, 10, 'F')\n",
      "('00004572', '아이폰 XS', 1360000, 1224000, 10, 'F')\n",
      "('00004573', '아이폰 XS', 1360000, 1224000, 10, 'F')\n",
      "('00004574', '아이폰 XS', 1360000, 1224000, 10, 'F')\n",
      "('00004575', '아이폰 XS', 1360000, 1224000, 10, 'F')\n",
      "('00004576', '아이폰 XS', 1360000, 1224000, 10, 'F')\n",
      "('00004577', '아이폰 XS', 1360000, 1224000, 10, 'F')\n",
      "('00004578', '아이폰 XS', 1360000, 1224000, 10, 'F')\n",
      "====================================\n",
      "('00004568', '아이폰 XS', 1360000, 1224000, 10, 'F')\n",
      "('00004569', '아이폰 XS', 1360000, 1224000, 10, 'F')\n",
      "('00004570', '아이폰 XS', 1360000, 1224000, 10, 'F')\n",
      "('00004571', '아이폰 XS', 1360000, 1224000, 10, 'F')\n",
      "('00004572', '아이폰 XS', 1360000, 1224000, 10, 'F')\n",
      "====================================\n",
      "(('00004568', '아이폰 XS', 1360000, 1224000, 10, 'F'),)\n"
     ]
    }
   ],
   "source": [
    "database = pymysql.connect(host = 'localhost',port = 3306, user = 'root', passwd = '123456', db = 'ecommerce', charset = 'utf8')\n",
    "cursor = database.cursor()\n",
    "\n",
    "sql = '''\n",
    "    select * from product;\n",
    "'''\n",
    "cursor.execute(sql)    \n",
    "\n",
    "result = cursor.fetchall()\n",
    "for i in result:\n",
    "    print(i)\n",
    "print(\"====================================\")\n",
    "cursor.execute(sql)  \n",
    "result = cursor.fetchmany(size=5)\n",
    "for i in result:\n",
    "    print(i)\n",
    "print(\"====================================\")\n",
    "cursor.execute(sql)  \n",
    "print(cursor.fetchmany())\n",
    "\n",
    "database.close()"
   ]
  },
  {
   "cell_type": "markdown",
   "metadata": {},
   "source": [
    "### 데이터 업데이트"
   ]
  },
  {
   "cell_type": "code",
   "execution_count": 21,
   "metadata": {},
   "outputs": [],
   "source": [
    "database = pymysql.connect(host = 'localhost',port = 3306, user = 'root', passwd = '123456', db = 'ecommerce', charset = 'utf8')\n",
    "cursor = database.cursor()\n",
    "sql = \"\"\"\n",
    "    update product set \n",
    "    title = '갤럭시 Z 플립3',\n",
    "    ori_price = 1254000,\n",
    "    discount_price = 1039900,\n",
    "    discount_percent = 17 \n",
    "    where product_code = '00004574'\n",
    "    ;\n",
    "\"\"\"\n",
    "cursor.execute(sql)\n",
    "    \n",
    "database.commit()\n",
    "database.close()"
   ]
  },
  {
   "cell_type": "markdown",
   "metadata": {},
   "source": [
    "### 데이터 삭제"
   ]
  },
  {
   "cell_type": "code",
   "execution_count": 22,
   "metadata": {},
   "outputs": [],
   "source": [
    "database = pymysql.connect(host = 'localhost',port = 3306, user = 'root', passwd = '123456', db = 'ecommerce', charset = 'utf8')\n",
    "cursor = database.cursor()\n",
    "sql = \"\"\"\n",
    "    delete from product\n",
    "    where product_code = '00004578'\n",
    "    ;\n",
    "\"\"\"\n",
    "cursor.execute(sql)\n",
    "    \n",
    "database.commit()\n",
    "database.close()"
   ]
  },
  {
   "cell_type": "markdown",
   "metadata": {},
   "source": [
    "#  Pandas 코드를 이용하여 SQL 코드 입력하기"
   ]
  },
  {
   "cell_type": "code",
   "execution_count": 5,
   "metadata": {},
   "outputs": [],
   "source": [
    "import pandas as pd\n",
    "import pymysql"
   ]
  },
  {
   "cell_type": "code",
   "execution_count": 19,
   "metadata": {},
   "outputs": [],
   "source": [
    "db = pymysql.connect(\n",
    "    host = 'localhost',\n",
    "    port = 3306,\n",
    "    user = 'root',\n",
    "    passwd = '123456',\n",
    "    db = 'sqlDB',\n",
    "    charset = 'utf8'\n",
    ")"
   ]
  },
  {
   "cell_type": "code",
   "execution_count": 12,
   "metadata": {},
   "outputs": [
    {
     "data": {
      "text/html": [
       "<div>\n",
       "<style scoped>\n",
       "    .dataframe tbody tr th:only-of-type {\n",
       "        vertical-align: middle;\n",
       "    }\n",
       "\n",
       "    .dataframe tbody tr th {\n",
       "        vertical-align: top;\n",
       "    }\n",
       "\n",
       "    .dataframe thead th {\n",
       "        text-align: right;\n",
       "    }\n",
       "</style>\n",
       "<table border=\"1\" class=\"dataframe\">\n",
       "  <thead>\n",
       "    <tr style=\"text-align: right;\">\n",
       "      <th></th>\n",
       "      <th>userID</th>\n",
       "      <th>name</th>\n",
       "      <th>birthYear</th>\n",
       "      <th>addr</th>\n",
       "      <th>mobile1</th>\n",
       "      <th>mobile2</th>\n",
       "      <th>height</th>\n",
       "      <th>mDate</th>\n",
       "    </tr>\n",
       "  </thead>\n",
       "  <tbody>\n",
       "    <tr>\n",
       "      <th>0</th>\n",
       "      <td>BBK</td>\n",
       "      <td>바비킴</td>\n",
       "      <td>1973</td>\n",
       "      <td>서울</td>\n",
       "      <td>010</td>\n",
       "      <td>00000000</td>\n",
       "      <td>176</td>\n",
       "      <td>2013-05-05</td>\n",
       "    </tr>\n",
       "    <tr>\n",
       "      <th>1</th>\n",
       "      <td>EJW</td>\n",
       "      <td>은지원</td>\n",
       "      <td>1972</td>\n",
       "      <td>경북</td>\n",
       "      <td>011</td>\n",
       "      <td>88888888</td>\n",
       "      <td>174</td>\n",
       "      <td>2014-03-03</td>\n",
       "    </tr>\n",
       "    <tr>\n",
       "      <th>2</th>\n",
       "      <td>JKW</td>\n",
       "      <td>조관우</td>\n",
       "      <td>1965</td>\n",
       "      <td>경기</td>\n",
       "      <td>016</td>\n",
       "      <td>99999999</td>\n",
       "      <td>172</td>\n",
       "      <td>2010-10-10</td>\n",
       "    </tr>\n",
       "    <tr>\n",
       "      <th>3</th>\n",
       "      <td>JYP</td>\n",
       "      <td>조용필</td>\n",
       "      <td>1950</td>\n",
       "      <td>경기</td>\n",
       "      <td>011</td>\n",
       "      <td>44444444</td>\n",
       "      <td>166</td>\n",
       "      <td>2009-04-04</td>\n",
       "    </tr>\n",
       "    <tr>\n",
       "      <th>4</th>\n",
       "      <td>KBS</td>\n",
       "      <td>김범수</td>\n",
       "      <td>1979</td>\n",
       "      <td>경남</td>\n",
       "      <td>011</td>\n",
       "      <td>22222222</td>\n",
       "      <td>173</td>\n",
       "      <td>2012-04-04</td>\n",
       "    </tr>\n",
       "    <tr>\n",
       "      <th>5</th>\n",
       "      <td>KKH</td>\n",
       "      <td>김경호</td>\n",
       "      <td>1971</td>\n",
       "      <td>전남</td>\n",
       "      <td>019</td>\n",
       "      <td>33333333</td>\n",
       "      <td>177</td>\n",
       "      <td>2007-07-07</td>\n",
       "    </tr>\n",
       "    <tr>\n",
       "      <th>6</th>\n",
       "      <td>LJB</td>\n",
       "      <td>임재범</td>\n",
       "      <td>1963</td>\n",
       "      <td>서울</td>\n",
       "      <td>016</td>\n",
       "      <td>66666666</td>\n",
       "      <td>182</td>\n",
       "      <td>2009-09-09</td>\n",
       "    </tr>\n",
       "    <tr>\n",
       "      <th>7</th>\n",
       "      <td>LSG</td>\n",
       "      <td>이승기</td>\n",
       "      <td>1987</td>\n",
       "      <td>서울</td>\n",
       "      <td>011</td>\n",
       "      <td>11111111</td>\n",
       "      <td>182</td>\n",
       "      <td>2008-08-08</td>\n",
       "    </tr>\n",
       "    <tr>\n",
       "      <th>8</th>\n",
       "      <td>SSK</td>\n",
       "      <td>성시경</td>\n",
       "      <td>1979</td>\n",
       "      <td>서울</td>\n",
       "      <td>None</td>\n",
       "      <td>None</td>\n",
       "      <td>186</td>\n",
       "      <td>2013-12-12</td>\n",
       "    </tr>\n",
       "    <tr>\n",
       "      <th>9</th>\n",
       "      <td>YJS</td>\n",
       "      <td>윤종신</td>\n",
       "      <td>1960</td>\n",
       "      <td>경남</td>\n",
       "      <td>None</td>\n",
       "      <td>None</td>\n",
       "      <td>170</td>\n",
       "      <td>2005-05-05</td>\n",
       "    </tr>\n",
       "  </tbody>\n",
       "</table>\n",
       "</div>"
      ],
      "text/plain": [
       "  userID name  birthYear addr mobile1   mobile2  height       mDate\n",
       "0    BBK  바비킴       1973   서울     010  00000000     176  2013-05-05\n",
       "1    EJW  은지원       1972   경북     011  88888888     174  2014-03-03\n",
       "2    JKW  조관우       1965   경기     016  99999999     172  2010-10-10\n",
       "3    JYP  조용필       1950   경기     011  44444444     166  2009-04-04\n",
       "4    KBS  김범수       1979   경남     011  22222222     173  2012-04-04\n",
       "5    KKH  김경호       1971   전남     019  33333333     177  2007-07-07\n",
       "6    LJB  임재범       1963   서울     016  66666666     182  2009-09-09\n",
       "7    LSG  이승기       1987   서울     011  11111111     182  2008-08-08\n",
       "8    SSK  성시경       1979   서울    None      None     186  2013-12-12\n",
       "9    YJS  윤종신       1960   경남    None      None     170  2005-05-05"
      ]
     },
     "execution_count": 12,
     "metadata": {},
     "output_type": "execute_result"
    }
   ],
   "source": [
    "sql = 'select * from userTbl'\n",
    "df = pd.read_sql(sql,db)\n",
    "df"
   ]
  },
  {
   "cell_type": "code",
   "execution_count": 13,
   "metadata": {},
   "outputs": [
    {
     "data": {
      "text/html": [
       "<div>\n",
       "<style scoped>\n",
       "    .dataframe tbody tr th:only-of-type {\n",
       "        vertical-align: middle;\n",
       "    }\n",
       "\n",
       "    .dataframe tbody tr th {\n",
       "        vertical-align: top;\n",
       "    }\n",
       "\n",
       "    .dataframe thead th {\n",
       "        text-align: right;\n",
       "    }\n",
       "</style>\n",
       "<table border=\"1\" class=\"dataframe\">\n",
       "  <thead>\n",
       "    <tr style=\"text-align: right;\">\n",
       "      <th></th>\n",
       "      <th>num</th>\n",
       "      <th>userID</th>\n",
       "      <th>prodName</th>\n",
       "      <th>groupName</th>\n",
       "      <th>price</th>\n",
       "      <th>amount</th>\n",
       "    </tr>\n",
       "  </thead>\n",
       "  <tbody>\n",
       "    <tr>\n",
       "      <th>0</th>\n",
       "      <td>1</td>\n",
       "      <td>KBS</td>\n",
       "      <td>운동화</td>\n",
       "      <td>의류</td>\n",
       "      <td>30</td>\n",
       "      <td>2</td>\n",
       "    </tr>\n",
       "    <tr>\n",
       "      <th>1</th>\n",
       "      <td>2</td>\n",
       "      <td>KBS</td>\n",
       "      <td>노트북</td>\n",
       "      <td>전자</td>\n",
       "      <td>1000</td>\n",
       "      <td>1</td>\n",
       "    </tr>\n",
       "    <tr>\n",
       "      <th>2</th>\n",
       "      <td>3</td>\n",
       "      <td>JYP</td>\n",
       "      <td>모니터</td>\n",
       "      <td>전자</td>\n",
       "      <td>200</td>\n",
       "      <td>1</td>\n",
       "    </tr>\n",
       "    <tr>\n",
       "      <th>3</th>\n",
       "      <td>4</td>\n",
       "      <td>BBK</td>\n",
       "      <td>모니터</td>\n",
       "      <td>전자</td>\n",
       "      <td>200</td>\n",
       "      <td>5</td>\n",
       "    </tr>\n",
       "    <tr>\n",
       "      <th>4</th>\n",
       "      <td>5</td>\n",
       "      <td>KBS</td>\n",
       "      <td>청바지</td>\n",
       "      <td>의류</td>\n",
       "      <td>50</td>\n",
       "      <td>3</td>\n",
       "    </tr>\n",
       "    <tr>\n",
       "      <th>5</th>\n",
       "      <td>6</td>\n",
       "      <td>BBK</td>\n",
       "      <td>메모리</td>\n",
       "      <td>전자</td>\n",
       "      <td>80</td>\n",
       "      <td>10</td>\n",
       "    </tr>\n",
       "    <tr>\n",
       "      <th>6</th>\n",
       "      <td>7</td>\n",
       "      <td>SSK</td>\n",
       "      <td>책</td>\n",
       "      <td>서적</td>\n",
       "      <td>15</td>\n",
       "      <td>5</td>\n",
       "    </tr>\n",
       "    <tr>\n",
       "      <th>7</th>\n",
       "      <td>8</td>\n",
       "      <td>EJW</td>\n",
       "      <td>책</td>\n",
       "      <td>서적</td>\n",
       "      <td>15</td>\n",
       "      <td>2</td>\n",
       "    </tr>\n",
       "    <tr>\n",
       "      <th>8</th>\n",
       "      <td>9</td>\n",
       "      <td>EJW</td>\n",
       "      <td>청바지</td>\n",
       "      <td>의류</td>\n",
       "      <td>50</td>\n",
       "      <td>1</td>\n",
       "    </tr>\n",
       "    <tr>\n",
       "      <th>9</th>\n",
       "      <td>10</td>\n",
       "      <td>BBK</td>\n",
       "      <td>운동화</td>\n",
       "      <td>의류</td>\n",
       "      <td>30</td>\n",
       "      <td>2</td>\n",
       "    </tr>\n",
       "    <tr>\n",
       "      <th>10</th>\n",
       "      <td>11</td>\n",
       "      <td>EJW</td>\n",
       "      <td>책</td>\n",
       "      <td>서적</td>\n",
       "      <td>15</td>\n",
       "      <td>1</td>\n",
       "    </tr>\n",
       "    <tr>\n",
       "      <th>11</th>\n",
       "      <td>12</td>\n",
       "      <td>BBK</td>\n",
       "      <td>운동화</td>\n",
       "      <td>의류</td>\n",
       "      <td>30</td>\n",
       "      <td>2</td>\n",
       "    </tr>\n",
       "  </tbody>\n",
       "</table>\n",
       "</div>"
      ],
      "text/plain": [
       "    num userID prodName groupName  price  amount\n",
       "0     1    KBS      운동화        의류     30       2\n",
       "1     2    KBS      노트북        전자   1000       1\n",
       "2     3    JYP      모니터        전자    200       1\n",
       "3     4    BBK      모니터        전자    200       5\n",
       "4     5    KBS      청바지        의류     50       3\n",
       "5     6    BBK      메모리        전자     80      10\n",
       "6     7    SSK        책        서적     15       5\n",
       "7     8    EJW        책        서적     15       2\n",
       "8     9    EJW      청바지        의류     50       1\n",
       "9    10    BBK      운동화        의류     30       2\n",
       "10   11    EJW        책        서적     15       1\n",
       "11   12    BBK      운동화        의류     30       2"
      ]
     },
     "execution_count": 13,
     "metadata": {},
     "output_type": "execute_result"
    }
   ],
   "source": [
    "sql = 'select * from buyTbl'\n",
    "df = pd.read_sql(sql,db)\n",
    "df"
   ]
  },
  {
   "cell_type": "markdown",
   "metadata": {
    "scrolled": true
   },
   "source": [
    "### 에러 발생 코드\n",
    "cursor = db.cursor()\n",
    "\n",
    "sql = \"INSERT INTO buyTbl (userID, prodName, groupName, price, amount) VALUES('LJH', '운동화', '의류', 30, 2);\"\n",
    "\n",
    "cursor.execute(sql)\n",
    "\n",
    "db.commit()\n",
    "\n",
    "buyRbl 에서의 userID는 userTbl의 userID를 참조하기 때문에 userTbl에 없는 ID는 작성할 수 없다."
   ]
  },
  {
   "cell_type": "code",
   "execution_count": 16,
   "metadata": {},
   "outputs": [],
   "source": [
    "sql = \"INSERT INTO buyTbl (userID, prodName, groupName, price, amount) VALUES('BBK', '운동화', '의류', 30, 2);\"\n",
    "cursor.execute(sql)\n",
    "db.commit()"
   ]
  },
  {
   "cell_type": "code",
   "execution_count": 20,
   "metadata": {},
   "outputs": [],
   "source": [
    "sql = \"INSERT INTO userTbl VALUES('LJH', '이진하', 1996, '경북', '011', '00000000', 171, '2014-4-4');\"\n",
    "cursor.execute(sql)\n",
    "db.commit()"
   ]
  },
  {
   "cell_type": "code",
   "execution_count": 21,
   "metadata": {},
   "outputs": [],
   "source": [
    "sql = \"INSERT INTO buyTbl (userID, prodName, groupName, price, amount) VALUES('LJH', '운동화', '의류', 30, 2);\"\n",
    "cursor.execute(sql)\n",
    "db.commit()"
   ]
  },
  {
   "cell_type": "markdown",
   "metadata": {
    "scrolled": true
   },
   "source": [
    "### 에러 발생 코드\n",
    "sql = \"DELETE FROM userTbl WHERE userID = 'LJH'\"\n",
    "\n",
    "cursor.execute(sql)\n",
    "\n",
    "db.commit()\n",
    "\n",
    "buyRbl 에서 참조하는 userID는 userTbl에서 userID를 삭제할 수 없다"
   ]
  },
  {
   "cell_type": "code",
   "execution_count": null,
   "metadata": {},
   "outputs": [],
   "source": []
  }
 ],
 "metadata": {
  "kernelspec": {
   "display_name": "Python 3",
   "language": "python",
   "name": "python3"
  },
  "language_info": {
   "codemirror_mode": {
    "name": "ipython",
    "version": 3
   },
   "file_extension": ".py",
   "mimetype": "text/x-python",
   "name": "python",
   "nbconvert_exporter": "python",
   "pygments_lexer": "ipython3",
   "version": "3.8.5"
  }
 },
 "nbformat": 4,
 "nbformat_minor": 4
}
